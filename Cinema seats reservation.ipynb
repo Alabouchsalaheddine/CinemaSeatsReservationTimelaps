{
 "cells": [
  {
   "cell_type": "markdown",
   "id": "168eede3",
   "metadata": {},
   "source": [
    "## How cinema seats are reserved ?"
   ]
  },
  {
   "cell_type": "markdown",
   "id": "35625953",
   "metadata": {},
   "source": [
    "In this notebook, our goal is to collect data on the reservation of seats in cinemas"
   ]
  },
  {
   "cell_type": "markdown",
   "id": "259b164e",
   "metadata": {},
   "source": [
    "We will use a new API exposed by UGC France"
   ]
  },
  {
   "cell_type": "markdown",
   "id": "8693a60c",
   "metadata": {},
   "source": [
    "We will check the seats status every minute for several hours"
   ]
  },
  {
   "cell_type": "code",
   "execution_count": null,
   "id": "835df848",
   "metadata": {},
   "outputs": [],
   "source": [
    "import requests\n",
    "import json\n",
    "import csv\n",
    "import datetime\n",
    "import time\n",
    "import string\n",
    "\n",
    "url = \"https://xmlresa.ugc.fr/numerotation/api/plan/033/46004431\"\n",
    "headers = {}\n",
    "\n",
    "\n",
    "startTime = time.time()\n",
    "while True:\n",
    "    currentTime = datetime.datetime.now()\n",
    "    currentTimeFormatted = currentTime.strftime(\"%Y-%m-%d_%H%M%S\")\n",
    "    fileName = \"seats_\" + currentTimeFormatted + \".csv\"\n",
    "    \n",
    "    response = requests.request(\"GET\", url, headers= headers)\n",
    "    if response.status_code == 200 :\n",
    "        responseJson = json.loads(response.text)\n",
    "        with open(fileName, 'w', newline='', encoding='UTF8') as f:\n",
    "            writer = csv.writer(f, delimiter=';')\n",
    "            header = [\"rangee\",\"siege\", \"statut\"]\n",
    "            writer.writerow(header)\n",
    "    \n",
    "            sieges = responseJson[\"sieges\"]\n",
    "            for thisSiege in sieges :\n",
    "                rangee = thisSiege[\"rangee\"]\n",
    "                siege = thisSiege[\"siege\"]\n",
    "                statut = thisSiege[\"statut\"]\n",
    "                rowData = [rangee, siege, statut]\n",
    "                writer.writerow(rowData)\n",
    "            \n",
    "    time.sleep(60.0 - ((time.time() - startTime) % 60.0))"
   ]
  },
  {
   "cell_type": "markdown",
   "id": "00423f75",
   "metadata": {},
   "source": [
    "## Making a timelaps"
   ]
  },
  {
   "cell_type": "markdown",
   "id": "443681fb",
   "metadata": {},
   "source": [
    "We have collected more than 180 images and will use them to create a stunning timelapse."
   ]
  },
  {
   "cell_type": "code",
   "execution_count": 37,
   "id": "255152d3",
   "metadata": {},
   "outputs": [
    {
     "data": {
      "text/html": [
       "<div>\n",
       "<style scoped>\n",
       "    .dataframe tbody tr th:only-of-type {\n",
       "        vertical-align: middle;\n",
       "    }\n",
       "\n",
       "    .dataframe tbody tr th {\n",
       "        vertical-align: top;\n",
       "    }\n",
       "\n",
       "    .dataframe thead th {\n",
       "        text-align: right;\n",
       "    }\n",
       "</style>\n",
       "<table border=\"1\" class=\"dataframe\">\n",
       "  <thead>\n",
       "    <tr style=\"text-align: right;\">\n",
       "      <th></th>\n",
       "      <th>rangee</th>\n",
       "      <th>siege</th>\n",
       "      <th>statut</th>\n",
       "    </tr>\n",
       "  </thead>\n",
       "  <tbody>\n",
       "    <tr>\n",
       "      <th>0</th>\n",
       "      <td>A</td>\n",
       "      <td>0</td>\n",
       "      <td>L</td>\n",
       "    </tr>\n",
       "    <tr>\n",
       "      <th>1</th>\n",
       "      <td>A</td>\n",
       "      <td>14</td>\n",
       "      <td>L</td>\n",
       "    </tr>\n",
       "    <tr>\n",
       "      <th>2</th>\n",
       "      <td>A</td>\n",
       "      <td>13</td>\n",
       "      <td>L</td>\n",
       "    </tr>\n",
       "    <tr>\n",
       "      <th>3</th>\n",
       "      <td>A</td>\n",
       "      <td>12</td>\n",
       "      <td>L</td>\n",
       "    </tr>\n",
       "    <tr>\n",
       "      <th>4</th>\n",
       "      <td>A</td>\n",
       "      <td>11</td>\n",
       "      <td>L</td>\n",
       "    </tr>\n",
       "    <tr>\n",
       "      <th>...</th>\n",
       "      <td>...</td>\n",
       "      <td>...</td>\n",
       "      <td>...</td>\n",
       "    </tr>\n",
       "    <tr>\n",
       "      <th>171</th>\n",
       "      <td>K</td>\n",
       "      <td>4</td>\n",
       "      <td>L</td>\n",
       "    </tr>\n",
       "    <tr>\n",
       "      <th>172</th>\n",
       "      <td>K</td>\n",
       "      <td>3</td>\n",
       "      <td>L</td>\n",
       "    </tr>\n",
       "    <tr>\n",
       "      <th>173</th>\n",
       "      <td>K</td>\n",
       "      <td>2</td>\n",
       "      <td>L</td>\n",
       "    </tr>\n",
       "    <tr>\n",
       "      <th>174</th>\n",
       "      <td>K</td>\n",
       "      <td>0</td>\n",
       "      <td>L</td>\n",
       "    </tr>\n",
       "    <tr>\n",
       "      <th>175</th>\n",
       "      <td>K</td>\n",
       "      <td>0</td>\n",
       "      <td>L</td>\n",
       "    </tr>\n",
       "  </tbody>\n",
       "</table>\n",
       "<p>176 rows × 3 columns</p>\n",
       "</div>"
      ],
      "text/plain": [
       "    rangee  siege statut\n",
       "0        A      0      L\n",
       "1        A     14      L\n",
       "2        A     13      L\n",
       "3        A     12      L\n",
       "4        A     11      L\n",
       "..     ...    ...    ...\n",
       "171      K      4      L\n",
       "172      K      3      L\n",
       "173      K      2      L\n",
       "174      K      0      L\n",
       "175      K      0      L\n",
       "\n",
       "[176 rows x 3 columns]"
      ]
     },
     "execution_count": 37,
     "metadata": {},
     "output_type": "execute_result"
    }
   ],
   "source": [
    "import pandas as pd\n",
    "df = pd.read_csv(\"data/seats_2023-03-25_182827.csv\", sep=\";\")\n",
    "df"
   ]
  },
  {
   "cell_type": "markdown",
   "id": "9512b6a5",
   "metadata": {},
   "source": [
    "## Converting the data in the files to images representing seats in the cinema"
   ]
  },
  {
   "cell_type": "code",
   "execution_count": 41,
   "id": "dfe2fc12",
   "metadata": {},
   "outputs": [],
   "source": [
    "from os import listdir\n",
    "from os.path import isfile, join\n",
    "\n",
    "imagesPath = \"images/\"\n",
    "dataPath = \"data/\"\n",
    "\n",
    "def convertDataToImage(fileName):\n",
    "    df = pd.read_csv(dataPath + fileName, sep=\";\")\n",
    "    y = df[\"rangee\"].unique()\n",
    "    x = df[\"siege\"].unique()\n",
    "    width = len(x)\n",
    "    height = len(y)\n",
    "    realWidth = width * 20\n",
    "    realHeight = height * 20\n",
    "    image = Image.new('RGB', (realWidth, realHeight))\n",
    "    \n",
    "    availableColor = (0, 255, 0)\n",
    "    occupiedColor = (255, 0, 0)\n",
    "\n",
    "    statutColorDict = {\"L\": availableColor,\n",
    "                       \"O\": occupiedColor\n",
    "                       }\n",
    "\n",
    "    for i in range(len(df)):\n",
    "        rangee = df.loc[i, \"rangee\"]\n",
    "        siege = df.loc[i, \"siege\"]\n",
    "        statut = df.loc[i, \"statut\"]\n",
    "        xSeat = string.ascii_lowercase.index(rangee.lower())\n",
    "        ySeat = siege\n",
    "        realX = 20 * xSeat\n",
    "        realY = 20 * ySeat\n",
    "        for i in range(1, 20):\n",
    "            for j in range(1, 20):\n",
    "                image.putpixel((realY + j, realX + i), statutColorDict[statut])\n",
    "\n",
    "    flippedImage = image.transpose(Image.Transpose.FLIP_LEFT_RIGHT)\n",
    "    rotatedflippedImage = flippedImage.transpose(Image.Transpose.ROTATE_90)\n",
    "    rotatedflippedImage = rotatedflippedImage.transpose(Image.Transpose.ROTATE_90)\n",
    "\n",
    "    rotatedflippedImage.save(imagesPath + fileName.split(\".csv\")[0] + \".png\")\n",
    "\n",
    "\n",
    "\n",
    "\n",
    "csvFiles = [f for f in listdir(dataPath) if isfile(join(dataPath, f))]\n",
    "for thisFile in csvFiles :\n",
    "    convertDataToImage(thisFile)"
   ]
  },
  {
   "cell_type": "markdown",
   "id": "6e293178",
   "metadata": {},
   "source": [
    "## Generating a gif from the images : 10 fps"
   ]
  },
  {
   "cell_type": "code",
   "execution_count": 35,
   "id": "c46b730e",
   "metadata": {},
   "outputs": [],
   "source": [
    "import imageio.v2 as imageio\n",
    "imagesPath = \"images/\"\n",
    "\n",
    "imagesFileNames = [f for f in listdir(imagesPath) if isfile(join(imagesPath, f))]\n",
    "images = []\n",
    "for imageFileName in imagesFileNames:\n",
    "    images.append(imageio.imread(\"images/\"+imageFileName))\n",
    "imageio.mimsave('movie.gif', images, fps = 10)"
   ]
  },
  {
   "cell_type": "code",
   "execution_count": 42,
   "id": "1acd172f",
   "metadata": {},
   "outputs": [
    {
     "data": {
      "text/html": [
       "<img src=\"movie.gif\">"
      ],
      "text/plain": [
       "<IPython.core.display.HTML object>"
      ]
     },
     "metadata": {},
     "output_type": "display_data"
    }
   ],
   "source": [
    "from IPython.display import Image\n",
    "from IPython.core.display import HTML\n",
    "HTML('<img src=\"movie.gif\">')\n",
    "display(HTML('<img src=\"movie.gif\">'))"
   ]
  }
 ],
 "metadata": {
  "kernelspec": {
   "display_name": "Python 3",
   "language": "python",
   "name": "python3"
  },
  "language_info": {
   "codemirror_mode": {
    "name": "ipython",
    "version": 3
   },
   "file_extension": ".py",
   "mimetype": "text/x-python",
   "name": "python",
   "nbconvert_exporter": "python",
   "pygments_lexer": "ipython3",
   "version": "3.7.3"
  }
 },
 "nbformat": 4,
 "nbformat_minor": 5
}
